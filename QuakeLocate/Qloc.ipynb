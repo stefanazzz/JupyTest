{
 "cells": [
  {
   "cell_type": "code",
   "execution_count": 220,
   "metadata": {},
   "outputs": [
    {
     "data": {
      "application/javascript": [
       "IPython.OutputArea.prototype._should_scroll = function(lines) {    return false;}\n"
      ],
      "text/plain": [
       "<IPython.core.display.Javascript object>"
      ]
     },
     "metadata": {},
     "output_type": "display_data"
    }
   ],
   "source": [
    "%%javascript\n",
    "IPython.OutputArea.prototype._should_scroll = function(lines) {    return false;}"
   ]
  },
  {
   "cell_type": "code",
   "execution_count": 221,
   "metadata": {},
   "outputs": [],
   "source": [
    "import numpy as np\n",
    "import pandas as pd\n",
    "import matplotlib.pyplot as plt\n",
    "%matplotlib notebook"
   ]
  },
  {
   "cell_type": "markdown",
   "metadata": {},
   "source": [
    "the probability density for each station $s$ is such that\n",
    "$$\n",
    "\\rho = A\\ \\exp{ \\frac{(R-R_s)^2}{\\sigma} }\n",
    "$$\n",
    "where \n",
    "$$\n",
    "R= \\sqrt{(x-x_s)^2+(y-y_s)^2}\n",
    "$$\n",
    "for each point (x,y) on the map, and for station position $(x_s,y_s)$.\n",
    "\n",
    "$R_s$ is the estimated epicentral distance of the earthquake from station $s$. \n",
    "\n",
    "$A$ is a normalising factor (in principle, the integral of $\\rho$ on the map should be one, if we assume that the earthquake haas to be somewhere on the map).\n",
    "\n",
    "$\\sigma$ is the error on the epicentral distance. "
   ]
  },
  {
   "cell_type": "code",
   "execution_count": 222,
   "metadata": {},
   "outputs": [],
   "source": [
    "# probability density function defined:\n",
    "def rho(xs,ys,rs,er,x,y):\n",
    "    rr=np.sqrt((x-xs)**2+(y-ys)**2)\n",
    "    den = np.exp( -(rr-rs)**2/er**2 )\n",
    "    return(den)"
   ]
  },
  {
   "cell_type": "markdown",
   "metadata": {},
   "source": [
    "### Enter your estimate for the epicentral distance R_xxx (in km) from each station xxx, <br> and error (err) on distance:"
   ]
  },
  {
   "cell_type": "code",
   "execution_count": 223,
   "metadata": {},
   "outputs": [],
   "source": [
    "R_arc=\n",
    "R_sao=\n",
    "R_bks=\n",
    "\n",
    "err = "
   ]
  },
  {
   "cell_type": "code",
   "execution_count": 224,
   "metadata": {},
   "outputs": [],
   "source": [
    "# position x,y of stations:\n",
    "# arc: 150, 1043\n",
    "# sao: 180, 932\n",
    "# bks: 300, 789\n",
    "xx=np.linspace(-1500,1500,200);\n",
    "yy=np.linspace(-500,2500,200);\n",
    "arc_d = np.zeros(  (len(xx),len(yy))  )\n",
    "sao_d = np.zeros(  (len(xx),len(yy))  )\n",
    "bks_d = np.zeros(  (len(xx),len(yy))  )\n",
    "ext_d = np.zeros(  (len(xx),len(yy))  )\n",
    "for i in range(len(xx)):\n",
    "    for j in range(len(yy)):\n",
    "        x=xx[i];y=yy[j];\n",
    "        #             (x  ,  y  ,   dist, err, -, -)\n",
    "        arc_d[j,i]=rho(150, 1043,   R_arc, err, x, y)\n",
    "        sao_d[j,i]=rho(180,  732,   R_sao, err, x, y)\n",
    "        bks_d[j,i]=rho(300,  789,   R_bks, err, x, y)\n",
    "        ext_d[j,i]=rho(-1000,  0,   1000,  err, x, y)\n",
    "#\n",
    "BB, HH = np.meshgrid(xx,yy);"
   ]
  },
  {
   "cell_type": "code",
   "execution_count": null,
   "metadata": {},
   "outputs": [],
   "source": [
    "fig = plt.figure(figsize=(9,9))\n",
    "\n",
    "ax1 = fig.add_subplot(221)\n",
    "ax1.contourf(BB,HH, arc_d, 20, cmap='PuRd')\n",
    "ax1.set_aspect(1)\n",
    "ax1.plot(150,1043,'or')\n",
    "\n",
    "ax2 = fig.add_subplot(222)\n",
    "ax2.contourf(BB,HH, sao_d, 20, cmap='PuRd')\n",
    "ax2.set_aspect(1)\n",
    "ax2.plot(180,732,'+b')\n",
    "\n",
    "ax3 = fig.add_subplot(223)\n",
    "ax3.contourf(BB,HH, bks_d, 20, cmap='PuRd')\n",
    "ax3.set_aspect(1)\n",
    "ax3.plot(300,789,'sg')\n",
    "\n",
    "ax4 = fig.add_subplot(224)\n",
    "ax4.contourf(BB,HH, bks_d*sao_d*arc_d, 20, cmap='PuRd')\n",
    "ax4.set_aspect(1)\n",
    "ax4.plot(150,1043,'or')\n",
    "ax4.plot(180,732,'+b')\n",
    "ax4.plot(300,789,'sg')\n",
    "\n",
    "fig.tight_layout()"
   ]
  },
  {
   "cell_type": "code",
   "execution_count": null,
   "metadata": {},
   "outputs": [],
   "source": [
    "fig2 = plt.figure(figsize=(4,4))\n",
    "\n",
    "ax5 = fig2.add_subplot(111)\n",
    "ax5.contourf(BB,HH, bks_d*sao_d*arc_d*ext_d, 20, cmap='PuRd')\n",
    "ax5.set_aspect(1)\n",
    "ax5.plot(150,1043,'or')\n",
    "ax5.plot(180,732,'+b')\n",
    "ax5.plot(300,789,'sg')\n",
    "ax5.plot(-1000,0,'ob')\n",
    "\n",
    "\n",
    "fig.tight_layout()"
   ]
  },
  {
   "cell_type": "code",
   "execution_count": null,
   "metadata": {},
   "outputs": [],
   "source": []
  }
 ],
 "metadata": {
  "kernelspec": {
   "display_name": "Python 3",
   "language": "python",
   "name": "python3"
  },
  "language_info": {
   "codemirror_mode": {
    "name": "ipython",
    "version": 3
   },
   "file_extension": ".py",
   "mimetype": "text/x-python",
   "name": "python",
   "nbconvert_exporter": "python",
   "pygments_lexer": "ipython3",
   "version": "3.7.8"
  }
 },
 "nbformat": 4,
 "nbformat_minor": 4
}
