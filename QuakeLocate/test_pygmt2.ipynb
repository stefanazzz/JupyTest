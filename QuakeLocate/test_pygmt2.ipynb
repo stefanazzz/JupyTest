{
 "cells": [
  {
   "cell_type": "markdown",
   "metadata": {},
   "source": [
    "# Install PYgmt on the fly:"
   ]
  },
  {
   "cell_type": "markdown",
   "metadata": {},
   "source": [
    "# Import additional libraries:"
   ]
  },
  {
   "cell_type": "code",
   "execution_count": 1,
   "metadata": {},
   "outputs": [],
   "source": [
    "import numpy as np\n",
    "import pandas as pd\n",
    "import pygmt #as pygmt"
   ]
  },
  {
   "cell_type": "markdown",
   "metadata": {},
   "source": [
    "# GMT script:"
   ]
  },
  {
   "cell_type": "code",
   "execution_count": 16,
   "metadata": {},
   "outputs": [
    {
     "name": "stdout",
     "output_type": "stream",
     "text": [
      "done, output in file epi.pdf\n"
     ]
    }
   ],
   "source": [
    "%%bash\n",
    "lat1=42.01; lon1=143.16; d1=4958.32; err1=500;\n",
    "lat2=55.32; lon2=-3.21; d2=7253.07; err2=330;\n",
    "lat3=23.69; lon3=-109.94; d3=4793.41; err3=270;\n",
    "\n",
    "gmt begin epi pdf\n",
    "\n",
    "    # Calculate distances (km) to all points on a global 1x1 grid\n",
    "    gmt grdmath -Rg -I1 $lon1 $lat1 SDIST = dist1\n",
    "    gmt grdmath -Rg -I1 $lon2 $lat2 SDIST = dist2\n",
    "    gmt grdmath -Rg -I1 $lon3 $lat3 SDIST = dist3\n",
    "    # Do same plus or minus error:\n",
    "    gmt grdmath dist1 $err1 ADD = dist1b\n",
    "    gmt grdmath dist2 $err2 ADD = dist2b\n",
    "    gmt grdmath dist3 $err3 ADD = dist3b    \n",
    "    gmt grdmath dist1 $err1 SUB = dist1c\n",
    "    gmt grdmath dist2 $err2 SUB = dist2c\n",
    "    gmt grdmath dist3 $err3 SUB = dist3c\n",
    "\n",
    "\n",
    "    # Plot the base map\n",
    "    gmt pscoast -Rg -JH280/9i -Glightgreen -Sblue -A1000 -Dc \\\n",
    "        -Ba30g30 -B+t\"GEOL3151/3291 - Earthquake location\" \\\n",
    "        -Wthinnest\n",
    "\n",
    "    # Plot contours directly without intermediate files\n",
    "    gmt grdcontour dist1 -C$d1 -L$d1/$d1 -Z+s1+o0 -JH280/9i -Wthickest,red\n",
    "    gmt grdcontour dist2 -C$d2 -L$d2/$d2 -Z+s1+o0 -JH280/9i -Wthickest,white\n",
    "    gmt grdcontour dist3 -C$d3 -L$d3/$d3 -Z+s1+o0 -JH280/9i -Wthickest,black\n",
    "    # Plot +/- values according to error estimate:\n",
    "    gmt grdcontour dist1b -C$d1 -L$d1/$d1 -Z+s1+o0 -JH280/9i -Wthickest,red\n",
    "    gmt grdcontour dist1c -C$d1 -L$d1/$d1 -Z+s1+o0 -JH280/9i -Wthickest,red\n",
    "    gmt grdcontour dist2b -C$d2 -L$d2/$d2 -Z+s1+o0 -JH280/9i -Wthickest,white\n",
    "    gmt grdcontour dist2c -C$d2 -L$d2/$d2 -Z+s1+o0 -JH280/9i -Wthickest,white\n",
    "    gmt grdcontour dist3b -C$d3 -L$d3/$d3 -Z+s1+o0 -JH280/9i -Wthickest,black\n",
    "    gmt grdcontour dist3c -C$d3 -L$d3/$d3 -Z+s1+o0 -JH280/9i -Wthickest,black\n",
    "\n",
    "gmt end #show\n",
    "\n",
    "# Cleanup\n",
    "rm -f dist1 dist2 dist3 dist1b dsit1c dist2b dist2c dist3b dist3c\n",
    "echo \"done, output in file epi.pdf\"\n"
   ]
  },
  {
   "cell_type": "code",
   "execution_count": null,
   "metadata": {},
   "outputs": [],
   "source": []
  }
 ],
 "metadata": {
  "kernelspec": {
   "display_name": "Python 3 (ipykernel)",
   "language": "python",
   "name": "python3"
  },
  "language_info": {
   "codemirror_mode": {
    "name": "ipython",
    "version": 3
   },
   "file_extension": ".py",
   "mimetype": "text/x-python",
   "name": "python",
   "nbconvert_exporter": "python",
   "pygments_lexer": "ipython3",
   "version": "3.12.9"
  }
 },
 "nbformat": 4,
 "nbformat_minor": 4
}
