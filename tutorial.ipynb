{
 "cells": [
  {
   "cell_type": "markdown",
   "metadata": {},
   "source": [
    "# Python (jupyter notebook) -- a short tutorial\n",
    "### S. Nielsen March 2019"
   ]
  },
  {
   "cell_type": "markdown",
   "metadata": {},
   "source": [
    "# Foreword\n",
    "\n",
    "## 1) What python is not\n",
    "Not a software: it's a programming language! You will have to write code (or copy existing code and modifiy it)  <br>\n",
    "Coding can be a mixed blessing: expect frustration and wasted time <br>\n",
    "But the reward far exceeds the pain for those who persevere :) <br>\n",
    "If you just wish to plot data without coding, there are other (open-source) options, for example:\n",
    "- SciDavis\n",
    "- LibreOffice"
   ]
  },
  {
   "cell_type": "markdown",
   "metadata": {},
   "source": [
    "## 2) What we are using today:\n",
    "We are using python through an interface called **jupyter notebook**<br>\n",
    "**jupyter** is developed by the nonprofit organization *Project Jupyter*, created to \"develop open-source software, open-standards, and services for interactive computing across dozens of programming languages\" (JUPYTeR stands for JUlia, PYThon, R). \n",
    "\n",
    "Let's play the russian dolls:\n",
    "\n",
    "- What is jupyter notebook?\n",
    "- **jupyter notebook** is an interactive browser-based tool to run jupyter. \n",
    "- What is jupyter?\n",
    "- **jupyter** is a spin-off from IPython in 2014. \n",
    "- What is *IPython*...? \n",
    "- **IPython** is an interactive shell built with **Python**. \n",
    "- What is **Python**...? \n",
    "- **Python** is a large heavy-bodied non-venomous snake killing prey by constriction and asphyxiation. Also a programming language, with similar effects. \n",
    "\n",
    "<img src=\"files/python-logo.png\" width=\"100\"> \n",
    "<center> <font size=\"20\"> <span>&#8595;</span> </font> </div></center>\n",
    "<img src=\"files/IPy_header.png\" width=\"100\">\n",
    "<center> <font size=\"20\"> <span>&#8595;</span> </font> </div></center>\n",
    "<img src=\"files/main-logo.svg\"  width=\"100\" >\n",
    "    \n",
    "## 3) Platforms allowing to use jupyter notebook *with no installation*:\n",
    "\n",
    "- https://jupyter.org/try (a web site to try out notbooks and other things)\n",
    "- https://mybinder.org/Mybinder.org (the cloud-based computing)\n",
    "- https://github.com/ (the file hosting repository oniline)\n",
    "- https://colab.research.google.com/ (a slower alternative if Mybinder is overloaded)\n",
    "\n",
    "## 4) Additional info, tutorials and interesting facts:\n",
    "\n",
    "- https://towardsdatascience.com/search?q=matplotlib\n",
    "- https://medium.freecodecamp.org/learning-python-from-zero-to-hero-120ea540b567\n",
    "- https://www.pluralsight.com/blog/software-development/why-python\n",
    "- https://medium.com/@monipip3/open-source-a-tragedy-of-the-commons-a-story-that-no-one-really-talks-about-fe9936b3eb8e\n",
    "\n",
    "## 5) Todays' notebooks can be accessed and used interactively at:\n",
    "\n",
    "* All notebooks and support files: <br>\n",
    "    https://mybinder.org/v2/gh/stefanazzz/Coffee/master\n",
    "* This notebook: <br>\n",
    "    https://mybinder.org/v2/gh/stefanazzz/Coffee/master?filepath=tutorial.ipynb\n",
    "\n",
    "\n"
   ]
  },
  {
   "cell_type": "markdown",
   "metadata": {},
   "source": [
    "## 6) Why Python?\n",
    "\n",
    "### Can I live and work without python? <br>      <span>&#8213;</span> YES\n",
    "### Can I perform the same tasks with other langages or software?<br> <span>&#8213;</span> YES\n",
    "### So why bother?\n",
    "\n",
    "- Python, in particular notebook, allow to do many things from start to end in a single environnement\n",
    "\n",
    "- Allows a lot of flexibility and compatibility with other formats, software, operating system\n",
    "\n",
    "- Students leaving the University can continue to use python for work and play without paying an expensive \"private\" license fee\n",
    "\n",
    "- No legal hussle of whether the license covers its use or not: you can freely share, use, show your codes and results everywhere!\n",
    "\n",
    "- An expanding community continually contributes new packages for specialised tasks\n",
    "\n",
    "- The progamming langage is fast, intuitive and easy\n",
    "\n",
    "- Tons and tons of examples and help online!!\n",
    "\n",
    "## 7) The down side\n",
    "\n",
    "- Expect $\\approx$ 3 days of frustration before you start to catch the logic \n",
    "- In particular, there are 3 big differences with other common languages (see below) which are at first very counter-intuitive. \n",
    "- Coding is fun but you may easily end up spending too much time on it, use it wisely! \n"
   ]
  },
  {
   "cell_type": "markdown",
   "metadata": {},
   "source": [
    "## Examples shown in this intro:\n",
    "### This notebook:\n",
    "- Basic python and notebook functionnalities (this notebook)\n",
    "- Integration of HTML and LaTeX in \"markdown\" cells\n",
    "- Basic graphics (this notebook)\n",
    "\n",
    "### Other notebooks in the binder:\n",
    "https://mybinder.org/v2/gh/stefanazzz/Coffee/master \n",
    "    <br>\n",
    "- Import from other formats: **PDF** tables, xls, csv\n",
    "- Interactive graphics: picking positions with the mouse\n",
    "- Minimization and numerical serach for roots of equations\n",
    "- Symbolic calculus (analytical solver)\n",
    "- Finite difference wave propagation and **animated graphics**\n",
    "- Numerical solver of ODEs\n"
   ]
  },
  {
   "cell_type": "markdown",
   "metadata": {},
   "source": [
    "# INTERACTIVE TUTORIAL STARTS HERE"
   ]
  },
  {
   "cell_type": "markdown",
   "metadata": {},
   "source": [
    "### Basic interaction with the notebook:\n",
    "Select the first \"In[ ]:\" cell below (click anywhere on it with the mouse)<br>then click the >|Run button"
   ]
  },
  {
   "cell_type": "code",
   "execution_count": 1,
   "metadata": {},
   "outputs": [
    {
     "name": "stdout",
     "output_type": "stream",
     "text": [
      "Hello world\n"
     ]
    }
   ],
   "source": [
    "print('Hello world')"
   ]
  },
  {
   "cell_type": "markdown",
   "metadata": {},
   "source": [
    "## 3 confusing behaviors\n",
    "### 1) Structure of lists, indexing"
   ]
  },
  {
   "cell_type": "code",
   "execution_count": 2,
   "metadata": {},
   "outputs": [
    {
     "name": "stdout",
     "output_type": "stream",
     "text": [
      "<class 'list'>\n",
      "1\n",
      "2\n",
      "indexing of arrays starts at 0 !!!\n"
     ]
    }
   ],
   "source": [
    "# create two vectors of values. These are \"lists\", there are also \"numpy arrays\" (we'll leave that for later)\n",
    "xval=[1, 4, 70, 5, 2]\n",
    "yval=[2, 40, 6, 8, 0.1]\n",
    "print(type(xval))\n",
    "print(xval[0])\n",
    "print(xval[4])\n",
    "print(\"indexing of arrays starts at 0 !!!\")"
   ]
  },
  {
   "cell_type": "markdown",
   "metadata": {},
   "source": [
    "### 2) How loops work, hwo \"range\" works:"
   ]
  },
  {
   "cell_type": "code",
   "execution_count": 3,
   "metadata": {},
   "outputs": [
    {
     "name": "stdout",
     "output_type": "stream",
     "text": [
      "0\n",
      "1\n",
      "2\n",
      "3\n",
      "4\n",
      "loops are marked by indentation, and implicitly end when indentation goes back!!!!!!\n",
      "\n",
      "1 6\n",
      "1 7\n",
      "3 6\n",
      "3 7\n",
      "5 6\n",
      "5 7\n"
     ]
    }
   ],
   "source": [
    "for i in range(5):\n",
    "    print(i)\n",
    "print(\"loops are marked by indentation, and implicitly end when indentation goes back!!!!!!\")\n",
    "print()\n",
    "\n",
    "for i in [1,3,5]:\n",
    "    for j in [6,7]:\n",
    "        print(i,j)"
   ]
  },
  {
   "cell_type": "markdown",
   "metadata": {},
   "source": [
    "### 3) Variable assignement"
   ]
  },
  {
   "cell_type": "code",
   "execution_count": 4,
   "metadata": {},
   "outputs": [
    {
     "name": "stdout",
     "output_type": "stream",
     "text": [
      "[[11, 12, 130], [210, 222, 2.3]]\n",
      "the values in biub are:\n",
      " [[11, 12, 130], [210, 222, 2.3]] \n",
      " so far, so good...\n"
     ]
    }
   ],
   "source": [
    "# create a 2D list with 2x3 elements\n",
    "lol= [[11,12,130],[210,222,2.3]] \n",
    "print(lol)\n",
    "# now create a new label \"bub\", equate it to lol:\n",
    "bub=lol;\n",
    "print('the values in biub are:\\n',bub,'\\n so far, so good...')"
   ]
  },
  {
   "cell_type": "code",
   "execution_count": 5,
   "metadata": {},
   "outputs": [
    {
     "name": "stdout",
     "output_type": "stream",
     "text": [
      "lol:\n",
      " [[11, 12, 130], [210, 222, 2.3]]\n",
      "lol again:\n",
      " [[44, 12, 130], [210, 222, 2.3]]\n",
      "WHAT JUST HAPPENED?!?\n"
     ]
    }
   ],
   "source": [
    "# Now let's change one of the values in bub:\n",
    "print('lol:\\n',lol)\n",
    "bub[0][0]=44\n",
    "# Then print the \"original\" list lol:\n",
    "print('lol again:\\n',lol)\n",
    "print('WHAT JUST HAPPENED?!?')"
   ]
  },
  {
   "cell_type": "markdown",
   "metadata": {},
   "source": [
    "--> Assignment statements in Python do not copy objects, they create bindings between a target and an object. \n",
    "Essentially bub=lol CREATES A NEW LABEL FOR lol, but the list is the same. It just has a name, and a nickname!\n",
    "To avoid this, when duplicating a valriable use \"deepcopy\":"
   ]
  },
  {
   "cell_type": "code",
   "execution_count": 24,
   "metadata": {},
   "outputs": [
    {
     "name": "stdout",
     "output_type": "stream",
     "text": [
      "\n",
      " lol:\n",
      " [[ 11.   12.  130. ]\n",
      " [210.  222.    2.3]] \n",
      " hub:\n",
      " [[ 44.   12.  130. ]\n",
      " [210.  222.    2.3]]\n",
      "\n",
      " uu:\n",
      " [[ 33.   12.  130. ]\n",
      " [210.  222.    2.3]] \n",
      " lol:\n",
      " [[ 11.   12.  130. ]\n",
      " [210.  222.    2.3]]\n"
     ]
    }
   ],
   "source": [
    "import copy\n",
    "import numpy as np\n",
    "lol=np.array([[11,12,130],[210,222,2.3]])\n",
    "hub=copy.deepcopy(lol)\n",
    "hub[0][0]=44\n",
    "print('\\n lol:\\n',lol,'\\n hub:\\n',hub)\n",
    "# a simpler alternative:\n",
    "uu=lol*1 # the arithmetic operation implicitly creates a new list, not linked to lol\n",
    "uu[0][0]=33\n",
    "print('\\n uu:\\n',uu,'\\n lol:\\n',lol)"
   ]
  },
  {
   "cell_type": "code",
   "execution_count": null,
   "metadata": {},
   "outputs": [],
   "source": [
    "## arrays, tuples and lists are slightly different:\n",
    "import numpy as np\n",
    "lola=np.array([[\"a\",\"b\",3],[21,22,23]]) # array\n",
    "lol=[[\"a\",\"b\",3],[21,22,23]] # list\n",
    "lo=((\"a\",\"b\",3),(21,22,23)) # tuple\n",
    "print(lola[0,1])\n",
    "print(lol[1][2])\n",
    "print(lo[1][2])\n",
    "# tuples can't be modified. I just don't use them.\n",
    "lo[1][2]=4"
   ]
  },
  {
   "cell_type": "markdown",
   "metadata": {},
   "source": [
    "## A simple plot. \n",
    "### First \"import\": library, module, package. \n",
    "### magic % and the notebook figure environnement"
   ]
  },
  {
   "cell_type": "code",
   "execution_count": null,
   "metadata": {},
   "outputs": [],
   "source": [
    "\n",
    "# this creates a particular environment for figures in notebooks:\n",
    "%matplotlib notebook \n",
    "# this imports a standard plotting library:\n",
    "from matplotlib import pyplot as plt \n",
    "#####################################\n",
    "\n",
    "# this creates the canvas for a figure with one plot (ax):\n",
    "fig,ax=plt.subplots() # create handle for figure (fig) and SINGLE subfigure (ax)\n",
    "\n",
    "# this plots the points on \"ax\":\n",
    "ax.plot(xval,yval,'ro'); # plot in subfigure ax\n",
    "print(\" Now try to interact with the graphic using the menu abr below the plot\")"
   ]
  },
  {
   "cell_type": "code",
   "execution_count": null,
   "metadata": {},
   "outputs": [],
   "source": [
    "# a figure with two subfigures\n",
    "fig,[ax1,ax2]=plt.subplots(ncols=1,nrows=2,figsize=(4,5))\n",
    "ax1.plot(xval,yval,'ro');\n",
    "ax2.loglog(xval,yval,'bo');\n",
    "#ax2.set_xlim(left=1e-1);"
   ]
  },
  {
   "cell_type": "markdown",
   "metadata": {},
   "source": [
    "### Arithmetics and the numpy package"
   ]
  },
  {
   "cell_type": "code",
   "execution_count": null,
   "metadata": {},
   "outputs": [],
   "source": [
    "import numpy as np # this libraries allows further arithmetic operations\n",
    "####################\n",
    "pows=np.linspace(0.5,2.,5);\n",
    "sd=1e6;\n",
    "L=10**(pows)\n",
    "mo=(16/7)*sd*L**3;mag=(2/3)*(np.log10(mo)-9.1)\n",
    "print(pows,\"\\n\",L,\"\\n\",mag)"
   ]
  },
  {
   "cell_type": "code",
   "execution_count": null,
   "metadata": {},
   "outputs": [],
   "source": [
    "fig,[ax1,ax2]=plt.subplots(ncols=1,nrows=2,figsize=(4,5))\n",
    "ax1.plot(L,mag,'o');\n",
    "ax1.plot(L,mo,'o');\n",
    "ax2.loglog(L,mag,'o');\n",
    "ax2.loglog(L,mo,'o');"
   ]
  },
  {
   "cell_type": "markdown",
   "metadata": {},
   "source": [
    "### Export your figures: vector, pdf, bitmap... you name it!"
   ]
  },
  {
   "cell_type": "code",
   "execution_count": null,
   "metadata": {},
   "outputs": [],
   "source": [
    "fig.savefig(\"example.svg\")\n",
    "fig.savefig(\"example.pdf\")\n",
    "fig.savefig(\"example.png\",dpi=300)"
   ]
  },
  {
   "cell_type": "code",
   "execution_count": null,
   "metadata": {},
   "outputs": [],
   "source": [
    "# define a function\n",
    "def myfunnyfunction(aa):\n",
    "    aa=aa+1\n",
    "    print(aa)\n",
    "def mybetterfunction(bb):\n",
    "    bb=bb+1\n",
    "    return(bb)\n",
    "#\n",
    "aa=2;\n",
    "myfunnyfunction(aa)\n",
    "print(aa)\n",
    "cc=mybetterfunction(aa)\n",
    "print(aa,cc)\n",
    "#\n",
    "print(\"\\n\",'variables inside functions are modified only locally !!')"
   ]
  },
  {
   "cell_type": "markdown",
   "metadata": {},
   "source": [
    "## A fancier graphic, defined in a function \"josephine\"\n",
    "### Call josephine with arguments"
   ]
  },
  {
   "cell_type": "code",
   "execution_count": null,
   "metadata": {},
   "outputs": [],
   "source": [
    "from pylab import xlabel, ylabel\n",
    "\n",
    "def josephine(xx,yy,yy2,labx,laby,laby2):\n",
    "    fig,ax=plt.subplots(figsize=(6,8))\n",
    "    ax.semilogx(xx,yy,'r')\n",
    "    xlabel(labx); ylabel(laby)\n",
    "    ax.xaxis.grid(True,which='both',alpha=1)\n",
    "    ax2 = ax.twinx()\n",
    "    ax2.loglog(xx, yy2, 'b--')\n",
    "    ax2.set_ylabel(laby2, color='r')\n",
    "    ax2.tick_params('y', colors='r')\n",
    "    ax2.yaxis.grid(True,which='both',alpha=1)"
   ]
  },
  {
   "cell_type": "markdown",
   "metadata": {},
   "source": [
    "## Youy can write math equations in your notebook, too.\n",
    "We are plotting the magnitude moment relation such that:\n",
    "    $$\n",
    "    M_w=\\frac{2}{3}(\\log M_o-9.1)\n",
    "    $$\n",
    "and assume that the seismic moment scales with fault length $L$ as:\n",
    "$$M_o\\propto L^3$$"
   ]
  },
  {
   "cell_type": "code",
   "execution_count": null,
   "metadata": {},
   "outputs": [],
   "source": [
    "pows=np.linspace(0.5,2.,5);L=10**(pows)\n",
    "sd=5e6;mo=(16/7)*sd*L**3;mag=(2/3)*(np.log10(mo)-9.1)\n",
    "\n",
    "# call the plotting function \"josephine\":\n",
    "josephine(L,mag,mo,'Length L (m)','M$_w$','M$_o$ (N m)')"
   ]
  },
  {
   "cell_type": "code",
   "execution_count": null,
   "metadata": {},
   "outputs": [],
   "source": []
  },
  {
   "cell_type": "code",
   "execution_count": null,
   "metadata": {},
   "outputs": [],
   "source": []
  }
 ],
 "metadata": {
  "kernelspec": {
   "display_name": "Python 3",
   "language": "python",
   "name": "python3"
  },
  "language_info": {
   "codemirror_mode": {
    "name": "ipython",
    "version": 3
   },
   "file_extension": ".py",
   "mimetype": "text/x-python",
   "name": "python",
   "nbconvert_exporter": "python",
   "pygments_lexer": "ipython3",
   "version": "3.7.6"
  }
 },
 "nbformat": 4,
 "nbformat_minor": 2
}
